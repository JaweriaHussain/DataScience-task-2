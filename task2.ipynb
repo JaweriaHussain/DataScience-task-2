{
 "cells": [
  {
   "cell_type": "code",
   "execution_count": 2,
   "metadata": {},
   "outputs": [],
   "source": [
    "import pandas as pd"
   ]
  },
  {
   "cell_type": "code",
   "execution_count": 9,
   "metadata": {},
   "outputs": [
    {
     "name": "stdout",
     "output_type": "stream",
     "text": [
      "Maximum marks in Data science is  90\n",
      "Maximum marks in Python is  94\n",
      "Maximum marks in Linear Algebra is  88\n"
     ]
    }
   ],
   "source": [
    "data_frame ={\n",
    "    'Names' :['Jaweria','sana','ramsha','rehana','samina','ume kalsoom','bisma','areej','mehwish','asrar'],\n",
    "    'Data_science':[80,70,56,66,89,90,59,76,89,67],\n",
    "    'Python':[32,44,56,78,68,94,86,56,70,50],\n",
    "    'Linear_Algebra':[44,66,33,88,39,78,29,67,60,79]\n",
    "}\n",
    "df = pd.DataFrame(data_frame)\n",
    "Names = df['Names']\n",
    "Data_science = df['Data_science']\n",
    "Python = df['Python']\n",
    "Linear_Algebra = df['Linear_Algebra']\n",
    "# print(df)\n",
    "print (f\"Maximum marks in Data science is  {Data_science.max()}\")\n",
    "print (f\"Maximum marks in Python is  {Python.max()}\")\n",
    "print (f\"Maximum marks in Linear Algebra is  {Linear_Algebra.max()}\")\n",
    "\n"
   ]
  },
  {
   "cell_type": "code",
   "execution_count": null,
   "metadata": {},
   "outputs": [],
   "source": []
  }
 ],
 "metadata": {
  "kernelspec": {
   "display_name": "Python 3.10.8 64-bit (microsoft store)",
   "language": "python",
   "name": "python3"
  },
  "language_info": {
   "codemirror_mode": {
    "name": "ipython",
    "version": 3
   },
   "file_extension": ".py",
   "mimetype": "text/x-python",
   "name": "python",
   "nbconvert_exporter": "python",
   "pygments_lexer": "ipython3",
   "version": "3.10.8"
  },
  "orig_nbformat": 4,
  "vscode": {
   "interpreter": {
    "hash": "66eba28a75a64fbe1a9b9c30d27f7c856726c51cbbef86297708eae4ce175db0"
   }
  }
 },
 "nbformat": 4,
 "nbformat_minor": 2
}
